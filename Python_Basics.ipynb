{
 "cells": [
  {
   "cell_type": "markdown",
   "metadata": {},
   "source": [
    "# 非语法部分\n",
    "## 环境相关\n",
    "\n",
    "## Debug技巧\n",
    "## Identifier\n",
    "- 由数字、字母、下划线组成，但不能以数字开头，有大小写的区分\n",
    "- 有特殊意义的：\n",
    "`_foo`: 某个类的成员。不能通过 `from xxx import *` 导入\n",
    "`__foo`: 类的“私有”成员。\n",
    "`__foo__`: 特殊方法。如 `__init__() `代表类的构造函数。\n",
    "## 其他\n",
    "- Python用**缩进**而非`{}`来写模块,必须严格执行\n",
    "- 一行可以有多个语句，需要用“；”分开\n",
    "- 一行可以分成多行，在每行最后加上 `\\`。语句中包含 `[]`, `{}` 或 `()` 就不需要使用,直接分成多行即可。\n",
    "- Python 可以使用引号( ' )、双引号( \" )、三引号( ''' 或 \"\"\" ) 来表示字符串， 其中三引号可以由多行组成。\n",
    "\n",
    "# 语法部分\n",
    "## 基本语法\n",
    "### 基础数据类型\n",
    "```python\n",
    "\n",
    "```\n",
    "\n",
    "### 基本运算符\n",
    "\n",
    "| | |\n",
    "|-|-|\n",
    "|算术| `/` `*` `%`（去模） `**` `//`(向下取整)|\n",
    "|比较| `==` `!=` `>=`|\n",
    "|逻辑|`AND` `OR` `NOT` |\n",
    "|位运算| `&` `\\|` `^` `~` `<<`|\n",
    "|成员|`IN` `NOT IN`|\n",
    "\n",
    "优先级：`**` > `* / % //` > `+ -` > `>> <<` > `&` > `其他位运算符` > `<= < > >=` > `== !=` > `赋值运算符` > `is` > `in` > `not and or`\n",
    "\n",
    "### \n",
    "\n",
    "## 一些常用的库\n",
    "# Numpy \n",
    "\n",
    "# Pandas\n"
   ]
  },
  {
   "cell_type": "code",
   "execution_count": 5,
   "metadata": {},
   "outputs": [
    {
     "name": "stdout",
     "output_type": "stream",
     "text": [
      "1\n"
     ]
    }
   ],
   "source": [
    "test = [None]\n",
    "print(len(test))"
   ]
  },
  {
   "cell_type": "code",
   "execution_count": 14,
   "metadata": {},
   "outputs": [
    {
     "data": {
      "text/plain": [
       "93.0"
      ]
     },
     "execution_count": 14,
     "metadata": {},
     "output_type": "execute_result"
    }
   ],
   "source": [
    "100 - (0.15*(2/15*100) + 50*0.10)"
   ]
  },
  {
   "cell_type": "code",
   "execution_count": null,
   "metadata": {},
   "outputs": [],
   "source": []
  },
  {
   "cell_type": "code",
   "execution_count": null,
   "metadata": {},
   "outputs": [],
   "source": [
    "# 0和NIULL为TRUE，否则为FALSE\n",
    "# 循环和条件语句\n",
    "\n",
    "# 无限循环使用`ctrl + c`来中断循环\n",
    "# 如果条件/循环语句只有以一行，可以写在同一行\n",
    "numbers = [12, 37, 5, 42, 8, 3]\n",
    "odd = []\n",
    "while len(numbers) > 0:\n",
    "    number = numbers.pop()\n",
    "    if (number % 2 == 1): odd.append(number)\n",
    "    else: continue\n",
    "print(numbers, odd)\n",
    "for i in range(3):\n",
    "    print(i)\n",
    "\n",
    "# string, list里的元素, range(i, j)从i(默认0）开始，不包括j"
   ]
  },
  {
   "cell_type": "code",
   "execution_count": null,
   "metadata": {},
   "outputs": [],
   "source": [
    "paragraph = \"\"\"\n",
    "You can type multiple rows\n",
    "inside it\"\"\" #三引号的使用方法\n",
    "m = n = 1 # m = 1, n = 1\n",
    "a, b, c= 1, 1.0, \"I am a string\"\n",
    "print(a); print(b); print(c[-3:-1]*2+\" connect_it\")\n",
    "# slice开始：左0右-1，不填则从头/尾，左闭右开\n",
    "list1 = ['a', 123, 2.1]\n",
    "list2 = ['1', '2', '3', '4', '5', 6]\n",
    "print(list1+list2[0:-2:2]) # 最后一个为步长, ['a', 123, 2.1, '1', '3']\n",
    "tuple1 = ( 'runoob', 786 , 2.23, 'john', 70.2 )\n",
    "# 操作和list几乎一样，但不同点在于元组不能二次赋值，相当于只读\n",
    "# Dict用法\n",
    "dict = {\"key\":\"value\"}\n",
    "dict['key1'] = \"hello\"\n",
    "dict[2] = 2\n",
    "print(dict)\n",
    "print(dict.keys())\n",
    "print(dict.values())\n",
    "# 强制类型转化\n",
    "print(int(\"23\"), float(\"2\"), str(\"2.34\"))\n",
    "# Array\n",
    "\n",
    "\n"
   ]
  },
  {
   "cell_type": "code",
   "execution_count": null,
   "metadata": {},
   "outputs": [],
   "source": [
    "def Test(a=1, b=2, c=3):\n",
    "    for i in range(1):\n",
    "        print(\"hello\")\n",
    "\n",
    "Test(1,2,3)"
   ]
  },
  {
   "cell_type": "code",
   "execution_count": null,
   "metadata": {},
   "outputs": [],
   "source": [
    "i = 3//2\n",
    "print(i)\n",
    "\n",
    "for j in range(i):\n",
    "    print(j)"
   ]
  },
  {
   "cell_type": "code",
   "execution_count": null,
   "metadata": {},
   "outputs": [],
   "source": [
    "for i in range(-1, 5, 1):\n",
    "    print(i)"
   ]
  },
  {
   "cell_type": "code",
   "execution_count": 20,
   "metadata": {},
   "outputs": [
    {
     "name": "stdout",
     "output_type": "stream",
     "text": [
      "happy\n",
      "happYLalladsdasAsddas\n",
      "happy\\na\n",
      "happy\\na\n",
      "happy\n",
      "a\n",
      "aaaabd\n",
      "<class 'str'>\n"
     ]
    }
   ],
   "source": [
    "print(\"happy\\nhappY\\\n",
    "LalladsdasD\\b\\\n",
    "Asddas\")\n",
    "print(r\"happy\\na\")\n",
    "print(R\"happy\\na\")\n",
    "print(\"happy\\na\")\n",
    "print(\"aa\"*2 + \"bcde\"[0::2])\n",
    "print(type(\"123\"[0]))\n",
    "\n",
    "\n"
   ]
  },
  {
   "cell_type": "code",
   "execution_count": 23,
   "metadata": {},
   "outputs": [
    {
     "name": "stdout",
     "output_type": "stream",
     "text": [
      "result is 123456789\n",
      "result is \n",
      "result is 3456789\n",
      "result is 98765432\n",
      "result is \n"
     ]
    }
   ],
   "source": [
    "s = \"123456789\"\n",
    "print('result is', s[:])\n",
    "print('result is', s[2:3:-1])\n",
    "print('result is', s[2:1000])\n",
    "print('result is', s[1000:0:-1])\n",
    "print('result is', s[100:1000:1])"
   ]
  },
  {
   "cell_type": "code",
   "execution_count": 37,
   "metadata": {},
   "outputs": [
    {
     "name": "stdout",
     "output_type": "stream",
     "text": [
      "Aba\n",
      "2\n"
     ]
    }
   ],
   "source": [
    "itr = \"aba\"\n",
    "itr.upper() #\n",
    "print(itr.strip().capitalize()) \n",
    "print(itr.count(\"a\",0,3))\n",
    "# string.count(str, beg=0, end=len(string)) # 返回 str 在 string 里面出现的次数"
   ]
  },
  {
   "cell_type": "code",
   "execution_count": 15,
   "metadata": {},
   "outputs": [
    {
     "name": "stdout",
     "output_type": "stream",
     "text": [
      "<class 'collections.Counter'> <class 'dict'>\n",
      "Counter({4: 3, 1: 1, 2: 1, 3: 1})\n"
     ]
    }
   ],
   "source": [
    "from collections import Counter\n",
    "a = [1,2,3,4,4,4]\n",
    "b = Counter(a)\n",
    "print(type(b), type(dict(b)))\n",
    "print(b)"
   ]
  },
  {
   "cell_type": "code",
   "execution_count": null,
   "metadata": {},
   "outputs": [
    {
     "name": "stdout",
     "output_type": "stream",
     "text": [
      "120\n",
      "5\n",
      "4\n",
      "3\n",
      "2\n",
      "1\n",
      "End!\n",
      "None\n"
     ]
    }
   ],
   "source": [
    "# 试着写递归\n",
    "def jiecheng(n):\n",
    "    if n == 0 or n == 1: return 1\n",
    "    return n*jiecheng(n-1)\n",
    "print(jiecheng(5)) # 120\n",
    "\n",
    "def countdown(n):\n",
    "    if n == 0: \n",
    "        print(\"End!\")\n",
    "        return\n",
    "    print(n)\n",
    "    countdown(n-1)\n",
    "print(countdown(5)) # 5,4,3,2,1"
   ]
  },
  {
   "cell_type": "code",
   "execution_count": 61,
   "metadata": {},
   "outputs": [
    {
     "name": "stdout",
     "output_type": "stream",
     "text": [
      "120\n"
     ]
    }
   ],
   "source": [
    "def jiecen(n):\n",
    "    if n == 0 or n == 1:\n",
    "        return 1\n",
    "    return n*jiecen(n-1)\n",
    "print(jiecen(5))\n"
   ]
  }
 ],
 "metadata": {
  "kernelspec": {
   "display_name": "Python 3",
   "language": "python",
   "name": "python3"
  },
  "language_info": {
   "codemirror_mode": {
    "name": "ipython",
    "version": 3
   },
   "file_extension": ".py",
   "mimetype": "text/x-python",
   "name": "python",
   "nbconvert_exporter": "python",
   "pygments_lexer": "ipython3",
   "version": "3.8.6"
  }
 },
 "nbformat": 4,
 "nbformat_minor": 2
}
